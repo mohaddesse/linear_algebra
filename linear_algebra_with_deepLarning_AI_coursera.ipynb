{
 "cells": [
  {
   "attachments": {},
   "cell_type": "markdown",
   "metadata": {},
   "source": [
    "# Singular or non singular\n",
    "\n",
    "1. non_singular ---> (x+y=5)(,x+2y=6)--> y=1,x=4 ==> unique solution\n",
    "2. singular and redundant ---> (x+y=2),(2x+2y=4)---> many solutions\n",
    "3. singular and contradiction ---> (x+y=5),(x+y=10)---> !!! no solution ==> parallel\n",
    "\n",
    "# determinan\n",
    "#### for singular \n",
    "[a b  \n",
    " c d]\n",
    "\n",
    " if this matirx is singlar we have:\n",
    "\n",
    " (a+b)*k=(c+d) --->  ak=c , bk=d \n",
    "\n",
    " like \n",
    " [1 2  \n",
    "        2 4]\n",
    "\n",
    "then k=2.\n",
    "\n",
    "c/a=d/b=k ---> ad-bc=0 \n",
    "\n",
    "##### so for singular matrix determinan is zero"
   ]
  },
  {
   "cell_type": "code",
   "execution_count": 3,
   "metadata": {},
   "outputs": [
    {
     "name": "stdout",
     "output_type": "stream",
     "text": [
      "a1:\n",
      "[[1 1]\n",
      " [2 2]]\n",
      "a2:\n",
      "[[3 3]\n",
      " [4 4]]\n"
     ]
    }
   ],
   "source": [
    "import numpy as np\n",
    "a1 = np.array([[1,1], \n",
    "               [2,2]])\n",
    "a2 = np.array([[3,3],\n",
    "              [4,4]])\n",
    "print(f'a1:\\n{a1}')\n",
    "print(f'a2:\\n{a2}')"
   ]
  },
  {
   "cell_type": "code",
   "execution_count": 4,
   "metadata": {},
   "outputs": [
    {
     "data": {
      "text/plain": [
       "array([[1, 1],\n",
       "       [2, 2],\n",
       "       [3, 3],\n",
       "       [4, 4]])"
      ]
     },
     "execution_count": 4,
     "metadata": {},
     "output_type": "execute_result"
    }
   ],
   "source": [
    "np.vstack([a1,a2])"
   ]
  },
  {
   "cell_type": "code",
   "execution_count": 5,
   "metadata": {},
   "outputs": [
    {
     "data": {
      "text/plain": [
       "array([[1, 1, 3, 3],\n",
       "       [2, 2, 4, 4]])"
      ]
     },
     "execution_count": 5,
     "metadata": {},
     "output_type": "execute_result"
    }
   ],
   "source": [
    "np.hstack((a1,a2))"
   ]
  },
  {
   "cell_type": "code",
   "execution_count": 6,
   "metadata": {},
   "outputs": [
    {
     "ename": "ModuleNotFoundError",
     "evalue": "No module named 'sympy'",
     "output_type": "error",
     "traceback": [
      "\u001b[0;31m---------------------------------------------------------------------------\u001b[0m",
      "\u001b[0;31mModuleNotFoundError\u001b[0m                       Traceback (most recent call last)",
      "Cell \u001b[0;32mIn[6], line 1\u001b[0m\n\u001b[0;32m----> 1\u001b[0m \u001b[39mfrom\u001b[39;00m \u001b[39msympy\u001b[39;00m \u001b[39mimport\u001b[39;00m Matrix \n\u001b[1;32m      3\u001b[0m A1 \u001b[39m=\u001b[39m Matrix([[\u001b[39m8\u001b[39m, \u001b[39m4\u001b[39m, \u001b[39m26000\u001b[39m],\n\u001b[1;32m      4\u001b[0m             [\u001b[39m3\u001b[39m, \u001b[39m1\u001b[39m, \u001b[39m10000\u001b[39m]])\n\u001b[1;32m      5\u001b[0m A1\u001b[39m.\u001b[39mrref()\n",
      "\u001b[0;31mModuleNotFoundError\u001b[0m: No module named 'sympy'"
     ]
    }
   ],
   "source": [
    "from sympy import Matrix \n",
    "\n",
    "A1 = Matrix([[8, 4, 26000],\n",
    "            [3, 1, 10000]])\n",
    "A1.rref()"
   ]
  },
  {
   "cell_type": "code",
   "execution_count": 11,
   "metadata": {},
   "outputs": [
    {
     "data": {
      "text/plain": [
       "array([[2800.],\n",
       "       [1600.]])"
      ]
     },
     "execution_count": 11,
     "metadata": {},
     "output_type": "execute_result"
    }
   ],
   "source": [
    "A1 = np.array([[7, 4],\n",
    "            [3, 1]])\n",
    "b=np.array([[26000],[10000]])\n",
    "np.linalg.solve(A1,b)"
   ]
  },
  {
   "cell_type": "code",
   "execution_count": 13,
   "metadata": {},
   "outputs": [
    {
     "data": {
      "text/plain": [
       "-10.999999999999996"
      ]
     },
     "execution_count": 13,
     "metadata": {},
     "output_type": "execute_result"
    }
   ],
   "source": [
    "np.linalg.det([[4,-3],[7,-8]])"
   ]
  },
  {
   "cell_type": "code",
   "execution_count": null,
   "metadata": {},
   "outputs": [],
   "source": []
  }
 ],
 "metadata": {
  "kernelspec": {
   "display_name": "Python 3",
   "language": "python",
   "name": "python3"
  },
  "language_info": {
   "codemirror_mode": {
    "name": "ipython",
    "version": 3
   },
   "file_extension": ".py",
   "mimetype": "text/x-python",
   "name": "python",
   "nbconvert_exporter": "python",
   "pygments_lexer": "ipython3",
   "version": "3.10.4"
  },
  "orig_nbformat": 4,
  "vscode": {
   "interpreter": {
    "hash": "3ad933181bd8a04b432d3370b9dc3b0662ad032c4dfaa4e4f1596c548f763858"
   }
  }
 },
 "nbformat": 4,
 "nbformat_minor": 2
}
